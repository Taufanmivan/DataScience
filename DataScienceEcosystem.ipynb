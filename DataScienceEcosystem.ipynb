{
 "cells": [
  {
   "cell_type": "markdown",
   "id": "7bd0c7df-53d2-4801-8273-d824af5cdc5c",
   "metadata": {},
   "source": [
    "# Data Science Tools and Techniques\r\n"
   ]
  },
  {
   "cell_type": "markdown",
   "id": "27101b46-eef6-4452-af5b-08508e483003",
   "metadata": {},
   "source": [
    "## Introduction\r",
    "In this notebook, Data Science Tools and Ecosystem are summarized..\r\n"
   ]
  },
  {
   "cell_type": "markdown",
   "id": "080ad0d8-8a80-4d78-bd31-70802aa93497",
   "metadata": {},
   "source": [
    "## Data Science Languages\r",
    "Some of the popular languages that Data Scientists use are::\r\n",
    "- Python\r\n",
    "- R\r\n",
    "- SQL\r\n",
    "- Julia\r\n",
    "- Scala\r\n"
   ]
  },
  {
   "cell_type": "markdown",
   "id": "9f2013b3-3d7b-449a-84fd-2d28291c8804",
   "metadata": {},
   "source": [
    "## Data Science Libraries\r",
    "Some of the commonly used libraries used by Data Scientists include::\r\n",
    "- NumPy\r\n",
    "- Pandas\r\n",
    "- Matplotlib\r\n",
    "- Scikit-learn\r\n",
    "- TensorFlow\r\n",
    "- Keras\r\n"
   ]
  },
  {
   "cell_type": "markdown",
   "id": "b9069317-9d50-4612-887d-7baafc7a537f",
   "metadata": {},
   "source": [
    "## Data Science Tools\r\n",
    "Here are some of the essential data science tools:\r\n",
    "\r\n",
    "| Tool         | Description                             |\r\n",
    "|--------------|-----------------------------------------|\r\n",
    "| Jupyter      | Interactive computing environment      |\r\n",
    "| RStudio      | IDE for R                               |\r\n",
    "| Apache Spark | Cluster computing framework            |\r\n",
    "| TensorFlow   | Machine learning library                |\r\n",
    "| Tableau      | Data visualization tool                 |\r\n"
   ]
  },
  {
   "cell_type": "markdown",
   "id": "4960f414-d544-4b0a-99a0-bce1fd4b8ec6",
   "metadata": {},
   "source": [
    "## Below are a few examples of evaluating arithmetic expressions in Python.\r\n",
    "\r\n"
   ]
  },
  {
   "cell_type": "code",
   "execution_count": 4,
   "id": "2b9c5916-5f18-4945-a039-d8f6e999ea5a",
   "metadata": {},
   "outputs": [
    {
     "data": {
      "text/plain": [
       "17"
      ]
     },
     "execution_count": 4,
     "metadata": {},
     "output_type": "execute_result"
    }
   ],
   "source": [
    "# This a simple arithmetic expression to mutiply then add integers\n",
    "a = 3\n",
    "b = 4\n",
    "c = 5\n",
    "result = (a * b) + c\n",
    "result\n"
   ]
  },
  {
   "cell_type": "code",
   "execution_count": 5,
   "id": "a99bfdc1-d665-41c3-90aa-9b876be6d510",
   "metadata": {},
   "outputs": [
    {
     "data": {
      "text/plain": [
       "3.3333333333333335"
      ]
     },
     "execution_count": 5,
     "metadata": {},
     "output_type": "execute_result"
    }
   ],
   "source": [
    "# This will convert 200 minutes to hours by diving by 60\n",
    "minutes = 200\n",
    "hours = minutes / 60\n",
    "hours\n"
   ]
  },
  {
   "cell_type": "markdown",
   "id": "21692e8b-8bb7-4e76-9832-b7051c255cc7",
   "metadata": {},
   "source": [
    "## Objectives\r",
    "List popular languages for Data Science:\r\n",
    "- Understand the basics of data science tools and languages.\r\n",
    "- Perform basic arithmetic operations in Python.\r\n",
    "- Convert time units in Python.\r\n"
   ]
  },
  {
   "cell_type": "markdown",
   "id": "b2a8e564-4937-4d40-abd3-8d4049e55284",
   "metadata": {},
   "source": [
    "## Author\r\n",
    "This notebook was created byTaufan Muhammad Ivan].\r\n"
   ]
  },
  {
   "cell_type": "code",
   "execution_count": null,
   "id": "41491f13-01e4-433c-b988-2d10d0307fa7",
   "metadata": {},
   "outputs": [],
   "source": []
  }
 ],
 "metadata": {
  "kernelspec": {
   "display_name": "Python 3 (ipykernel)",
   "language": "python",
   "name": "python3"
  },
  "language_info": {
   "codemirror_mode": {
    "name": "ipython",
    "version": 3
   },
   "file_extension": ".py",
   "mimetype": "text/x-python",
   "name": "python",
   "nbconvert_exporter": "python",
   "pygments_lexer": "ipython3",
   "version": "3.11.5"
  }
 },
 "nbformat": 4,
 "nbformat_minor": 5
}
